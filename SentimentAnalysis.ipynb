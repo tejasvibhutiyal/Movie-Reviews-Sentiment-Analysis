{
 "cells": [
  {
   "cell_type": "markdown",
   "id": "eeffd32e",
   "metadata": {},
   "source": [
    "#Sentiment Analysis on Movie Reviews"
   ]
  },
  {
   "cell_type": "markdown",
   "id": "0abbc9aa",
   "metadata": {},
   "source": [
    "Importing Libraries"
   ]
  },
  {
   "cell_type": "code",
   "execution_count": 37,
   "id": "a6a3eedf",
   "metadata": {},
   "outputs": [],
   "source": [
    "import pandas as pd\n",
    "import re\n",
    "import matplotlib.pyplot as plt\n",
    "import seaborn as sns\n",
    "import string, time\n",
    "import nltk\n",
    "\n",
    "from collections import Counter\n",
    "from nltk.stem.porter import PorterStemmer\n",
    "from sklearn.model_selection import train_test_split\n",
    "from bs4 import BeautifulSoup\n",
    "from imblearn.pipeline import make_pipeline\n",
    "from sklearn.naive_bayes import MultinomialNB\n",
    "from sklearn.metrics import classification_report, ConfusionMatrixDisplay, confusion_matrix\n",
    "from nltk.stem import WordNetLemmatizer\n",
    "from sklearn.feature_extraction.text import TfidfVectorizer\n",
    "from imblearn.over_sampling import SMOTE\n",
    "\n",
    "%matplotlib inline"
   ]
  },
  {
   "cell_type": "markdown",
   "id": "bf461a52",
   "metadata": {},
   "source": [
    "Reading dataset as pandas dataframe"
   ]
  },
  {
   "cell_type": "code",
   "execution_count": 38,
   "id": "edc7e56d",
   "metadata": {},
   "outputs": [
    {
     "name": "stderr",
     "output_type": "stream",
     "text": [
      "[nltk_data] Downloading package punkt to\n",
      "[nltk_data]     C:\\Users\\hp\\AppData\\Roaming\\nltk_data...\n",
      "[nltk_data]   Package punkt is already up-to-date!\n",
      "[nltk_data] Downloading package stopwords to\n",
      "[nltk_data]     C:\\Users\\hp\\AppData\\Roaming\\nltk_data...\n",
      "[nltk_data]   Package stopwords is already up-to-date!\n",
      "[nltk_data] Downloading package wordnet to\n",
      "[nltk_data]     C:\\Users\\hp\\AppData\\Roaming\\nltk_data...\n",
      "[nltk_data]   Package wordnet is already up-to-date!\n"
     ]
    },
    {
     "data": {
      "text/plain": [
       "True"
      ]
     },
     "execution_count": 38,
     "metadata": {},
     "output_type": "execute_result"
    }
   ],
   "source": [
    "nltk.download('punkt')\n",
    "nltk.download('stopwords')\n",
    "nltk.download('wordnet')\n"
   ]
  },
  {
   "cell_type": "code",
   "execution_count": 39,
   "id": "7c14a691",
   "metadata": {},
   "outputs": [
    {
     "data": {
      "text/html": [
       "<div>\n",
       "<style scoped>\n",
       "    .dataframe tbody tr th:only-of-type {\n",
       "        vertical-align: middle;\n",
       "    }\n",
       "\n",
       "    .dataframe tbody tr th {\n",
       "        vertical-align: top;\n",
       "    }\n",
       "\n",
       "    .dataframe thead th {\n",
       "        text-align: right;\n",
       "    }\n",
       "</style>\n",
       "<table border=\"1\" class=\"dataframe\">\n",
       "  <thead>\n",
       "    <tr style=\"text-align: right;\">\n",
       "      <th></th>\n",
       "      <th>review</th>\n",
       "      <th>sentiment</th>\n",
       "    </tr>\n",
       "  </thead>\n",
       "  <tbody>\n",
       "    <tr>\n",
       "      <th>0</th>\n",
       "      <td>One of the other reviewers has mentioned that after watching just 1 Oz episode you'll be hooked. They are right, as this is exactly what happened with me.&lt;br /&gt;&lt;br /&gt;The first thing that struck me about Oz was its brutality and unflinching scenes of violence, which set in right from the word GO. Trust me, this is not a show for the faint hearted or timid. This show pulls no punches with regards to drugs, sex or violence. Its is hardcore, in the classic use of the word.&lt;br /&gt;&lt;br /&gt;It is called OZ as that is the nickname given to the Oswald Maximum Security State Penitentary. It focuses mainly on Emerald City, an experimental section of the prison where all the cells have glass fronts and face inwards, so privacy is not high on the agenda. Em City is home to many..Aryans, Muslims, gangstas, Latinos, Christians, Italians, Irish and more....so scuffles, death stares, dodgy dealings and shady agreements are never far away.&lt;br /&gt;&lt;br /&gt;I would say the main appeal of the show is due to the fact that it goes where other shows wouldn't dare. Forget pretty pictures painted for mainstream audiences, forget charm, forget romance...OZ doesn't mess around. The first episode I ever saw struck me as so nasty it was surreal, I couldn't say I was ready for it, but as I watched more, I developed a taste for Oz, and got accustomed to the high levels of graphic violence. Not just violence, but injustice (crooked guards who'll be sold out for a nickel, inmates who'll kill on order and get away with it, well mannered, middle class inmates being turned into prison bitches due to their lack of street skills or prison experience) Watching Oz, you may become comfortable with what is uncomfortable viewing....thats if you can get in touch with your darker side.</td>\n",
       "      <td>positive</td>\n",
       "    </tr>\n",
       "    <tr>\n",
       "      <th>1</th>\n",
       "      <td>A wonderful little production. &lt;br /&gt;&lt;br /&gt;The filming technique is very unassuming- very old-time-BBC fashion and gives a comforting, and sometimes discomforting, sense of realism to the entire piece. &lt;br /&gt;&lt;br /&gt;The actors are extremely well chosen- Michael Sheen not only \"has got all the polari\" but he has all the voices down pat too! You can truly see the seamless editing guided by the references to Williams' diary entries, not only is it well worth the watching but it is a terrificly written and performed piece. A masterful production about one of the great master's of comedy and his life. &lt;br /&gt;&lt;br /&gt;The realism really comes home with the little things: the fantasy of the guard which, rather than use the traditional 'dream' techniques remains solid then disappears. It plays on our knowledge and our senses, particularly with the scenes concerning Orton and Halliwell and the sets (particularly of their flat with Halliwell's murals decorating every surface) are terribly well done.</td>\n",
       "      <td>positive</td>\n",
       "    </tr>\n",
       "    <tr>\n",
       "      <th>2</th>\n",
       "      <td>I thought this was a wonderful way to spend time on a too hot summer weekend, sitting in the air conditioned theater and watching a light-hearted comedy. The plot is simplistic, but the dialogue is witty and the characters are likable (even the well bread suspected serial killer). While some may be disappointed when they realize this is not Match Point 2: Risk Addiction, I thought it was proof that Woody Allen is still fully in control of the style many of us have grown to love.&lt;br /&gt;&lt;br /&gt;This was the most I'd laughed at one of Woody's comedies in years (dare I say a decade?). While I've never been impressed with Scarlet Johanson, in this she managed to tone down her \"sexy\" image and jumped right into a average, but spirited young woman.&lt;br /&gt;&lt;br /&gt;This may not be the crown jewel of his career, but it was wittier than \"Devil Wears Prada\" and more interesting than \"Superman\" a great comedy to go see with friends.</td>\n",
       "      <td>positive</td>\n",
       "    </tr>\n",
       "    <tr>\n",
       "      <th>3</th>\n",
       "      <td>Basically there's a family where a little boy (Jake) thinks there's a zombie in his closet &amp; his parents are fighting all the time.&lt;br /&gt;&lt;br /&gt;This movie is slower than a soap opera... and suddenly, Jake decides to become Rambo and kill the zombie.&lt;br /&gt;&lt;br /&gt;OK, first of all when you're going to make a film you must Decide if its a thriller or a drama! As a drama the movie is watchable. Parents are divorcing &amp; arguing like in real life. And then we have Jake with his closet which totally ruins all the film! I expected to see a BOOGEYMAN similar movie, and instead i watched a drama with some meaningless thriller spots.&lt;br /&gt;&lt;br /&gt;3 out of 10 just for the well playing parents &amp; descent dialogs. As for the shots with Jake: just ignore them.</td>\n",
       "      <td>negative</td>\n",
       "    </tr>\n",
       "    <tr>\n",
       "      <th>4</th>\n",
       "      <td>Petter Mattei's \"Love in the Time of Money\" is a visually stunning film to watch. Mr. Mattei offers us a vivid portrait about human relations. This is a movie that seems to be telling us what money, power and success do to people in the different situations we encounter. &lt;br /&gt;&lt;br /&gt;This being a variation on the Arthur Schnitzler's play about the same theme, the director transfers the action to the present time New York where all these different characters meet and connect. Each one is connected in one way, or another to the next person, but no one seems to know the previous point of contact. Stylishly, the film has a sophisticated luxurious look. We are taken to see how these people live and the world they live in their own habitat.&lt;br /&gt;&lt;br /&gt;The only thing one gets out of all these souls in the picture is the different stages of loneliness each one inhabits. A big city is not exactly the best place in which human relations find sincere fulfillment, as one discerns is the case with most of the people we encounter.&lt;br /&gt;&lt;br /&gt;The acting is good under Mr. Mattei's direction. Steve Buscemi, Rosario Dawson, Carol Kane, Michael Imperioli, Adrian Grenier, and the rest of the talented cast, make these characters come alive.&lt;br /&gt;&lt;br /&gt;We wish Mr. Mattei good luck and await anxiously for his next work.</td>\n",
       "      <td>positive</td>\n",
       "    </tr>\n",
       "    <tr>\n",
       "      <th>49995</th>\n",
       "      <td>I thought this movie did a down right good job. It wasn't as creative or original as the first, but who was expecting it to be. It was a whole lotta fun. the more i think about it the more i like it, and when it comes out on DVD I'm going to pay the money for it very proudly, every last cent. Sharon Stone is great, she always is, even if her movie is horrible(Catwoman), but this movie isn't, this is one of those movies that will be underrated for its lifetime, and it will probably become a classic in like 20 yrs. Don't wait for it to be a classic, watch it now and enjoy it. Don't expect a masterpiece, or something thats gripping and soul touching, just allow yourself to get out of your life and get yourself involved in theirs.&lt;br /&gt;&lt;br /&gt;All in all, this movie is entertaining and i recommend people who haven't seen it see it, because what the critics and box office say doesn't always count, see it for yourself, you never know, you might just enjoy it. I tip my hat to this movie&lt;br /&gt;&lt;br /&gt;8/10</td>\n",
       "      <td>positive</td>\n",
       "    </tr>\n",
       "    <tr>\n",
       "      <th>49996</th>\n",
       "      <td>Bad plot, bad dialogue, bad acting, idiotic directing, the annoying porn groove soundtrack that ran continually over the overacted script, and a crappy copy of the VHS cannot be redeemed by consuming liquor. Trust me, because I stuck this turkey out to the end. It was so pathetically bad all over that I had to figure it was a fourth-rate spoof of Springtime for Hitler.&lt;br /&gt;&lt;br /&gt;The girl who played Janis Joplin was the only faint spark of interest, and that was only because she could sing better than the original.&lt;br /&gt;&lt;br /&gt;If you want to watch something similar but a thousand times better, then watch Beyond The Valley of The Dolls.</td>\n",
       "      <td>negative</td>\n",
       "    </tr>\n",
       "    <tr>\n",
       "      <th>49997</th>\n",
       "      <td>I am a Catholic taught in parochial elementary schools by nuns, taught by Jesuit priests in high school &amp; college. I am still a practicing Catholic but would not be considered a \"good Catholic\" in the church's eyes because I don't believe certain things or act certain ways just because the church tells me to.&lt;br /&gt;&lt;br /&gt;So back to the movie...its bad because two people are killed by this nun who is supposed to be a satire as the embodiment of a female religious figurehead. There is no comedy in that and the satire is not done well by the over acting of Diane Keaton. I never saw the play but if it was very different from this movies then it may be good.&lt;br /&gt;&lt;br /&gt;At first I thought the gun might be a fake and the first shooting all a plan by the female lead of the four former students as an attempt to demonstrate Sister Mary's emotional and intellectual bigotry of faith. But it turns out the bullets were real and the story has tragedy...the tragedy of loss of life (besides the two former students...the lives of the aborted babies, the life of the student's mom), the tragedy of dogmatic authority over love of people, the tragedy of organized religion replacing true faith in God. This is what is wrong with today's Islam, and yesterday's Judaism and Christianity.</td>\n",
       "      <td>negative</td>\n",
       "    </tr>\n",
       "    <tr>\n",
       "      <th>49998</th>\n",
       "      <td>I'm going to have to disagree with the previous comment and side with Maltin on this one. This is a second rate, excessively vicious Western that creaks and groans trying to put across its central theme of the Wild West being tamed and kicked aside by the steady march of time. It would like to be in the tradition of \"Butch Cassidy and the Sundance Kid\", but lacks that film's poignancy and charm. Andrew McLaglen's direction is limp, and the final 30 minutes or so are a real botch, with some incomprehensible strategy on the part of heroes Charlton Heston and Chris Mitchum. (Someone give me a holler if you can explain to me why they set that hillside on fire.) There was something callous about the whole treatment of the rape scene, and the woman's reaction afterwards certainly did not ring true. Coburn is plenty nasty as the half breed escaped convict out for revenge, but all of his fellow escapees are underdeveloped (they're like bowling pins to be knocked down one by one as the story lurches forward). Michael Parks gives one of his typically shifty, lethargic, mumbling performances, but in this case it was appropriate as his modern style sheriff symbolizes the complacency that technological progress can bring about.</td>\n",
       "      <td>negative</td>\n",
       "    </tr>\n",
       "    <tr>\n",
       "      <th>49999</th>\n",
       "      <td>No one expects the Star Trek movies to be high art, but the fans do expect a movie that is as good as some of the best episodes. Unfortunately, this movie had a muddled, implausible plot that just left me cringing - this is by far the worst of the nine (so far) movies. Even the chance to watch the well known characters interact in another movie can't save this movie - including the goofy scenes with Kirk, Spock and McCoy at Yosemite.&lt;br /&gt;&lt;br /&gt;I would say this movie is not worth a rental, and hardly worth watching, however for the True Fan who needs to see all the movies, renting this movie is about the only way you'll see it - even the cable channels avoid this movie.</td>\n",
       "      <td>negative</td>\n",
       "    </tr>\n",
       "  </tbody>\n",
       "</table>\n",
       "</div>"
      ],
      "text/plain": [
       "                                                                                                                                                                                                                                                                                                                                                                                                                                                                                                                                                                                                                                                                                                                                                                                                                                                                                                                                                                                                                                                                                                                                                                                                                                                                                                                                                                                                                                                                                                                                                                                                                                                                                                                                                                                                                                  review  \\\n",
       "0      One of the other reviewers has mentioned that after watching just 1 Oz episode you'll be hooked. They are right, as this is exactly what happened with me.<br /><br />The first thing that struck me about Oz was its brutality and unflinching scenes of violence, which set in right from the word GO. Trust me, this is not a show for the faint hearted or timid. This show pulls no punches with regards to drugs, sex or violence. Its is hardcore, in the classic use of the word.<br /><br />It is called OZ as that is the nickname given to the Oswald Maximum Security State Penitentary. It focuses mainly on Emerald City, an experimental section of the prison where all the cells have glass fronts and face inwards, so privacy is not high on the agenda. Em City is home to many..Aryans, Muslims, gangstas, Latinos, Christians, Italians, Irish and more....so scuffles, death stares, dodgy dealings and shady agreements are never far away.<br /><br />I would say the main appeal of the show is due to the fact that it goes where other shows wouldn't dare. Forget pretty pictures painted for mainstream audiences, forget charm, forget romance...OZ doesn't mess around. The first episode I ever saw struck me as so nasty it was surreal, I couldn't say I was ready for it, but as I watched more, I developed a taste for Oz, and got accustomed to the high levels of graphic violence. Not just violence, but injustice (crooked guards who'll be sold out for a nickel, inmates who'll kill on order and get away with it, well mannered, middle class inmates being turned into prison bitches due to their lack of street skills or prison experience) Watching Oz, you may become comfortable with what is uncomfortable viewing....thats if you can get in touch with your darker side.   \n",
       "1                                                                                                                                                                                                                                                                                                                                                                                                                                                                                                                                                                                                                                                                                                                                                                                                 A wonderful little production. <br /><br />The filming technique is very unassuming- very old-time-BBC fashion and gives a comforting, and sometimes discomforting, sense of realism to the entire piece. <br /><br />The actors are extremely well chosen- Michael Sheen not only \"has got all the polari\" but he has all the voices down pat too! You can truly see the seamless editing guided by the references to Williams' diary entries, not only is it well worth the watching but it is a terrificly written and performed piece. A masterful production about one of the great master's of comedy and his life. <br /><br />The realism really comes home with the little things: the fantasy of the guard which, rather than use the traditional 'dream' techniques remains solid then disappears. It plays on our knowledge and our senses, particularly with the scenes concerning Orton and Halliwell and the sets (particularly of their flat with Halliwell's murals decorating every surface) are terribly well done.   \n",
       "2                                                                                                                                                                                                                                                                                                                                                                                                                                                                                                                                                                                                                                                                                                                                                                                                                                                                         I thought this was a wonderful way to spend time on a too hot summer weekend, sitting in the air conditioned theater and watching a light-hearted comedy. The plot is simplistic, but the dialogue is witty and the characters are likable (even the well bread suspected serial killer). While some may be disappointed when they realize this is not Match Point 2: Risk Addiction, I thought it was proof that Woody Allen is still fully in control of the style many of us have grown to love.<br /><br />This was the most I'd laughed at one of Woody's comedies in years (dare I say a decade?). While I've never been impressed with Scarlet Johanson, in this she managed to tone down her \"sexy\" image and jumped right into a average, but spirited young woman.<br /><br />This may not be the crown jewel of his career, but it was wittier than \"Devil Wears Prada\" and more interesting than \"Superman\" a great comedy to go see with friends.   \n",
       "3                                                                                                                                                                                                                                                                                                                                                                                                                                                                                                                                                                                                                                                                                                                                                                                                                                                                                                                                                                                                                                                           Basically there's a family where a little boy (Jake) thinks there's a zombie in his closet & his parents are fighting all the time.<br /><br />This movie is slower than a soap opera... and suddenly, Jake decides to become Rambo and kill the zombie.<br /><br />OK, first of all when you're going to make a film you must Decide if its a thriller or a drama! As a drama the movie is watchable. Parents are divorcing & arguing like in real life. And then we have Jake with his closet which totally ruins all the film! I expected to see a BOOGEYMAN similar movie, and instead i watched a drama with some meaningless thriller spots.<br /><br />3 out of 10 just for the well playing parents & descent dialogs. As for the shots with Jake: just ignore them.   \n",
       "4                                                                                                                                                                                                                                                                                                                                                                                                                                                                  Petter Mattei's \"Love in the Time of Money\" is a visually stunning film to watch. Mr. Mattei offers us a vivid portrait about human relations. This is a movie that seems to be telling us what money, power and success do to people in the different situations we encounter. <br /><br />This being a variation on the Arthur Schnitzler's play about the same theme, the director transfers the action to the present time New York where all these different characters meet and connect. Each one is connected in one way, or another to the next person, but no one seems to know the previous point of contact. Stylishly, the film has a sophisticated luxurious look. We are taken to see how these people live and the world they live in their own habitat.<br /><br />The only thing one gets out of all these souls in the picture is the different stages of loneliness each one inhabits. A big city is not exactly the best place in which human relations find sincere fulfillment, as one discerns is the case with most of the people we encounter.<br /><br />The acting is good under Mr. Mattei's direction. Steve Buscemi, Rosario Dawson, Carol Kane, Michael Imperioli, Adrian Grenier, and the rest of the talented cast, make these characters come alive.<br /><br />We wish Mr. Mattei good luck and await anxiously for his next work.   \n",
       "49995                                                                                                                                                                                                                                                                                                                                                                                                                                                                                                                                                                                                                                                                                                                                                                                   I thought this movie did a down right good job. It wasn't as creative or original as the first, but who was expecting it to be. It was a whole lotta fun. the more i think about it the more i like it, and when it comes out on DVD I'm going to pay the money for it very proudly, every last cent. Sharon Stone is great, she always is, even if her movie is horrible(Catwoman), but this movie isn't, this is one of those movies that will be underrated for its lifetime, and it will probably become a classic in like 20 yrs. Don't wait for it to be a classic, watch it now and enjoy it. Don't expect a masterpiece, or something thats gripping and soul touching, just allow yourself to get out of your life and get yourself involved in theirs.<br /><br />All in all, this movie is entertaining and i recommend people who haven't seen it see it, because what the critics and box office say doesn't always count, see it for yourself, you never know, you might just enjoy it. I tip my hat to this movie<br /><br />8/10   \n",
       "49996                                                                                                                                                                                                                                                                                                                                                                                                                                                                                                                                                                                                                                                                                                                                                                                                                                                                                                                                                                                                                                                                                                                                                                 Bad plot, bad dialogue, bad acting, idiotic directing, the annoying porn groove soundtrack that ran continually over the overacted script, and a crappy copy of the VHS cannot be redeemed by consuming liquor. Trust me, because I stuck this turkey out to the end. It was so pathetically bad all over that I had to figure it was a fourth-rate spoof of Springtime for Hitler.<br /><br />The girl who played Janis Joplin was the only faint spark of interest, and that was only because she could sing better than the original.<br /><br />If you want to watch something similar but a thousand times better, then watch Beyond The Valley of The Dolls.   \n",
       "49997                                                                                                                                                                                                                                                                                                                                                                                                                                                                                                   I am a Catholic taught in parochial elementary schools by nuns, taught by Jesuit priests in high school & college. I am still a practicing Catholic but would not be considered a \"good Catholic\" in the church's eyes because I don't believe certain things or act certain ways just because the church tells me to.<br /><br />So back to the movie...its bad because two people are killed by this nun who is supposed to be a satire as the embodiment of a female religious figurehead. There is no comedy in that and the satire is not done well by the over acting of Diane Keaton. I never saw the play but if it was very different from this movies then it may be good.<br /><br />At first I thought the gun might be a fake and the first shooting all a plan by the female lead of the four former students as an attempt to demonstrate Sister Mary's emotional and intellectual bigotry of faith. But it turns out the bullets were real and the story has tragedy...the tragedy of loss of life (besides the two former students...the lives of the aborted babies, the life of the student's mom), the tragedy of dogmatic authority over love of people, the tragedy of organized religion replacing true faith in God. This is what is wrong with today's Islam, and yesterday's Judaism and Christianity.   \n",
       "49998                                                                                                                                                                                                                                                                                                                                                                                                                                                                                                                                                 I'm going to have to disagree with the previous comment and side with Maltin on this one. This is a second rate, excessively vicious Western that creaks and groans trying to put across its central theme of the Wild West being tamed and kicked aside by the steady march of time. It would like to be in the tradition of \"Butch Cassidy and the Sundance Kid\", but lacks that film's poignancy and charm. Andrew McLaglen's direction is limp, and the final 30 minutes or so are a real botch, with some incomprehensible strategy on the part of heroes Charlton Heston and Chris Mitchum. (Someone give me a holler if you can explain to me why they set that hillside on fire.) There was something callous about the whole treatment of the rape scene, and the woman's reaction afterwards certainly did not ring true. Coburn is plenty nasty as the half breed escaped convict out for revenge, but all of his fellow escapees are underdeveloped (they're like bowling pins to be knocked down one by one as the story lurches forward). Michael Parks gives one of his typically shifty, lethargic, mumbling performances, but in this case it was appropriate as his modern style sheriff symbolizes the complacency that technological progress can bring about.   \n",
       "49999                                                                                                                                                                                                                                                                                                                                                                                                                                                                                                                                                                                                                                                                                                                                                                                                                                                                                                                                                                                                                                                                                                                             No one expects the Star Trek movies to be high art, but the fans do expect a movie that is as good as some of the best episodes. Unfortunately, this movie had a muddled, implausible plot that just left me cringing - this is by far the worst of the nine (so far) movies. Even the chance to watch the well known characters interact in another movie can't save this movie - including the goofy scenes with Kirk, Spock and McCoy at Yosemite.<br /><br />I would say this movie is not worth a rental, and hardly worth watching, however for the True Fan who needs to see all the movies, renting this movie is about the only way you'll see it - even the cable channels avoid this movie.   \n",
       "\n",
       "      sentiment  \n",
       "0      positive  \n",
       "1      positive  \n",
       "2      positive  \n",
       "3      negative  \n",
       "4      positive  \n",
       "49995  positive  \n",
       "49996  negative  \n",
       "49997  negative  \n",
       "49998  negative  \n",
       "49999  negative  "
      ]
     },
     "execution_count": 39,
     "metadata": {},
     "output_type": "execute_result"
    }
   ],
   "source": [
    "imdb_df = pd.read_csv('IMDB Dataset.csv', encoding='utf-8')\n",
    "pd.set_option('display.max_colwidth', None)\n",
    "pd.concat([imdb_df.head(),imdb_df.tail()])"
   ]
  },
  {
   "cell_type": "code",
   "execution_count": 40,
   "id": "c130d63f",
   "metadata": {},
   "outputs": [
    {
     "name": "stdout",
     "output_type": "stream",
     "text": [
      "<class 'pandas.core.frame.DataFrame'>\n",
      "RangeIndex: 50000 entries, 0 to 49999\n",
      "Data columns (total 2 columns):\n",
      " #   Column     Non-Null Count  Dtype \n",
      "---  ------     --------------  ----- \n",
      " 0   review     50000 non-null  object\n",
      " 1   sentiment  50000 non-null  object\n",
      "dtypes: object(2)\n",
      "memory usage: 781.4+ KB\n"
     ]
    }
   ],
   "source": [
    "# checking for null elements\n",
    "imdb_df.info()"
   ]
  },
  {
   "cell_type": "code",
   "execution_count": 41,
   "id": "8d17c76e",
   "metadata": {},
   "outputs": [
    {
     "name": "stdout",
     "output_type": "stream",
     "text": [
      "sentiment\n",
      "negative    25000\n",
      "positive    25000\n",
      "Name: count, dtype: int64\n"
     ]
    },
    {
     "data": {
      "text/plain": [
       "<Axes: xlabel='sentiment', ylabel='count'>"
      ]
     },
     "execution_count": 41,
     "metadata": {},
     "output_type": "execute_result"
    },
    {
     "data": {
      "image/png": "[encoded data removed]",
      "text/plain": [
       "<Figure size 640x480 with 1 Axes>"
      ]
     },
     "metadata": {},
     "output_type": "display_data"
    }
   ],
   "source": [
    "# checking for balance in dataset\n",
    "print(imdb_df.value_counts('sentiment'))\n",
    "sns.countplot(data=imdb_df, x ='sentiment' , palette = \"Set1\" , hue ='sentiment')"
   ]
  },
  {
   "cell_type": "code",
   "execution_count": 42,
   "id": "3db0a89c",
   "metadata": {},
   "outputs": [
    {
     "data": {
      "text/html": [
       "<div>\n",
       "<style scoped>\n",
       "    .dataframe tbody tr th:only-of-type {\n",
       "        vertical-align: middle;\n",
       "    }\n",
       "\n",
       "    .dataframe tbody tr th {\n",
       "        vertical-align: top;\n",
       "    }\n",
       "\n",
       "    .dataframe thead th {\n",
       "        text-align: right;\n",
       "    }\n",
       "</style>\n",
       "<table border=\"1\" class=\"dataframe\">\n",
       "  <thead>\n",
       "    <tr style=\"text-align: right;\">\n",
       "      <th></th>\n",
       "      <th>review</th>\n",
       "      <th>sentiment</th>\n",
       "    </tr>\n",
       "  </thead>\n",
       "  <tbody>\n",
       "    <tr>\n",
       "      <th>count</th>\n",
       "      <td>50000</td>\n",
       "      <td>50000</td>\n",
       "    </tr>\n",
       "    <tr>\n",
       "      <th>unique</th>\n",
       "      <td>49582</td>\n",
       "      <td>2</td>\n",
       "    </tr>\n",
       "    <tr>\n",
       "      <th>top</th>\n",
       "      <td>Loved today's show!!! It was a variety and not solely cooking (which would have been great too). Very stimulating and captivating, always keeping the viewer peeking around the corner to see what was coming up next. She is as down to earth and as personable as you get, like one of us which made the show all the more enjoyable. Special guests, who are friends as well made for a nice surprise too. Loved the 'first' theme and that the audience was invited to play along too. I must admit I was shocked to see her come in under her time limits on a few things, but she did it and by golly I'll be writing those recipes down. Saving time in the kitchen means more time with family. Those who haven't tuned in yet, find out what channel and the time, I assure you that you won't be disappointed.</td>\n",
       "      <td>positive</td>\n",
       "    </tr>\n",
       "    <tr>\n",
       "      <th>freq</th>\n",
       "      <td>5</td>\n",
       "      <td>25000</td>\n",
       "    </tr>\n",
       "  </tbody>\n",
       "</table>\n",
       "</div>"
      ],
      "text/plain": [
       "                                                                                                                                                                                                                                                                                                                                                                                                                                                                                                                                                                                                                                                                                                                                                                                                                          review  \\\n",
       "count                                                                                                                                                                                                                                                                                                                                                                                                                                                                                                                                                                                                                                                                                                                                                                                                                      50000   \n",
       "unique                                                                                                                                                                                                                                                                                                                                                                                                                                                                                                                                                                                                                                                                                                                                                                                                                     49582   \n",
       "top     Loved today's show!!! It was a variety and not solely cooking (which would have been great too). Very stimulating and captivating, always keeping the viewer peeking around the corner to see what was coming up next. She is as down to earth and as personable as you get, like one of us which made the show all the more enjoyable. Special guests, who are friends as well made for a nice surprise too. Loved the 'first' theme and that the audience was invited to play along too. I must admit I was shocked to see her come in under her time limits on a few things, but she did it and by golly I'll be writing those recipes down. Saving time in the kitchen means more time with family. Those who haven't tuned in yet, find out what channel and the time, I assure you that you won't be disappointed.   \n",
       "freq                                                                                                                                                                                                                                                                                                                                                                                                                                                                                                                                                                                                                                                                                                                                                                                                                           5   \n",
       "\n",
       "       sentiment  \n",
       "count      50000  \n",
       "unique         2  \n",
       "top     positive  \n",
       "freq       25000  "
      ]
     },
     "execution_count": 42,
     "metadata": {},
     "output_type": "execute_result"
    }
   ],
   "source": [
    "imdb_df.describe()"
   ]
  },
  {
   "cell_type": "code",
   "execution_count": 43,
   "id": "9b160e95",
   "metadata": {},
   "outputs": [
    {
     "data": {
      "text/html": [
       "<div>\n",
       "<style scoped>\n",
       "    .dataframe tbody tr th:only-of-type {\n",
       "        vertical-align: middle;\n",
       "    }\n",
       "\n",
       "    .dataframe tbody tr th {\n",
       "        vertical-align: top;\n",
       "    }\n",
       "\n",
       "    .dataframe thead th {\n",
       "        text-align: right;\n",
       "    }\n",
       "</style>\n",
       "<table border=\"1\" class=\"dataframe\">\n",
       "  <thead>\n",
       "    <tr style=\"text-align: right;\">\n",
       "      <th></th>\n",
       "      <th>review</th>\n",
       "      <th>sentiment</th>\n",
       "      <th>word_count</th>\n",
       "    </tr>\n",
       "  </thead>\n",
       "  <tbody>\n",
       "    <tr>\n",
       "      <th>0</th>\n",
       "      <td>One of the other reviewers has mentioned that ...</td>\n",
       "      <td>positive</td>\n",
       "      <td>307</td>\n",
       "    </tr>\n",
       "    <tr>\n",
       "      <th>1</th>\n",
       "      <td>A wonderful little production. &lt;br /&gt;&lt;br /&gt;The...</td>\n",
       "      <td>positive</td>\n",
       "      <td>162</td>\n",
       "    </tr>\n",
       "    <tr>\n",
       "      <th>2</th>\n",
       "      <td>I thought this was a wonderful way to spend ti...</td>\n",
       "      <td>positive</td>\n",
       "      <td>166</td>\n",
       "    </tr>\n",
       "    <tr>\n",
       "      <th>3</th>\n",
       "      <td>Basically there's a family where a little boy ...</td>\n",
       "      <td>negative</td>\n",
       "      <td>138</td>\n",
       "    </tr>\n",
       "    <tr>\n",
       "      <th>4</th>\n",
       "      <td>Petter Mattei's \"Love in the Time of Money\" is...</td>\n",
       "      <td>positive</td>\n",
       "      <td>230</td>\n",
       "    </tr>\n",
       "  </tbody>\n",
       "</table>\n",
       "</div>"
      ],
      "text/plain": [
       "                                              review sentiment  word_count\n",
       "0  One of the other reviewers has mentioned that ...  positive         307\n",
       "1  A wonderful little production. <br /><br />The...  positive         162\n",
       "2  I thought this was a wonderful way to spend ti...  positive         166\n",
       "3  Basically there's a family where a little boy ...  negative         138\n",
       "4  Petter Mattei's \"Love in the Time of Money\" is...  positive         230"
      ]
     },
     "execution_count": 43,
     "metadata": {},
     "output_type": "execute_result"
    }
   ],
   "source": [
    "# getting word counts for each review\n",
    "pd.set_option('display.max_colwidth', 50)\n",
    "imdb_df['word_count'] = imdb_df['review'].apply(lambda rev:len(rev.split()))\n",
    "imdb_df.head()"
   ]
  },
  {
   "cell_type": "code",
   "execution_count": 44,
   "id": "273c5ca5",
   "metadata": {},
   "outputs": [
    {
     "data": {
      "image/png": "[encoded data removed]",
      "text/plain": [
       "<Figure size 640x480 with 1 Axes>"
      ]
     },
     "metadata": {},
     "output_type": "display_data"
    }
   ],
   "source": [
    "# mapping freq and word count for both classes\n",
    "\n",
    "imdb_df[imdb_df.sentiment=='positive']['word_count'].plot.hist(bins=50, alpha=0.5, label='Positive Review')\n",
    "imdb_df[imdb_df.sentiment=='negative']['word_count'].plot.hist(bins=50, alpha=0.5,  label='Negative Review')\n",
    "plt.xlabel('Word Count')\n",
    "plt.ylabel('Frequency')\n",
    "plt.title('Frequency vs Word Count')\n",
    "plt.legend()\n",
    "plt.show()"
   ]
  },
  {
   "cell_type": "code",
   "execution_count": 45,
   "id": "374d8e17",
   "metadata": {},
   "outputs": [],
   "source": [
    "# applying class encoding\n",
    "imdb_df['sentiment'] = imdb_df['sentiment'].map({\"positive\": 0, \"negative\": 1})"
   ]
  },
  {
   "cell_type": "code",
   "execution_count": 46,
   "id": "e3a51b30",
   "metadata": {},
   "outputs": [
    {
     "data": {
      "text/plain": [
       "[('the', 568735),\n",
       " ('a', 306960),\n",
       " ('and', 301919),\n",
       " ('of', 283625),\n",
       " ('to', 261850),\n",
       " ('is', 203056),\n",
       " ('in', 169981),\n",
       " ('I', 132498),\n",
       " ('that', 126818),\n",
       " ('this', 113726),\n",
       " ('it', 107916),\n",
       " ('/><br', 100974),\n",
       " ('was', 92658),\n",
       " ('as', 83130),\n",
       " ('with', 82569),\n",
       " ('for', 80919),\n",
       " ('The', 67317),\n",
       " ('but', 66282),\n",
       " ('on', 61197),\n",
       " ('movie', 60762),\n",
       " ('are', 56513),\n",
       " ('film', 54277),\n",
       " ('his', 54198),\n",
       " ('have', 54009),\n",
       " ('not', 52140),\n",
       " ('you', 50697),\n",
       " ('be', 50539),\n",
       " ('at', 42421),\n",
       " ('by', 42290),\n",
       " ('he', 42114),\n",
       " ('one', 41334),\n",
       " ('an', 41076),\n",
       " ('from', 37876),\n",
       " ('who', 37207),\n",
       " ('like', 36028),\n",
       " ('all', 35272),\n",
       " ('they', 35201),\n",
       " ('has', 32420),\n",
       " ('so', 32386),\n",
       " ('just', 32338),\n",
       " ('or', 32221),\n",
       " ('about', 32036),\n",
       " ('her', 29944),\n",
       " ('out', 28679),\n",
       " ('some', 28052),\n",
       " ('very', 25794),\n",
       " ('more', 25412),\n",
       " ('This', 24329),\n",
       " ('would', 23578),\n",
       " ('what', 23320)]"
      ]
     },
     "execution_count": 46,
     "metadata": {},
     "output_type": "execute_result"
    }
   ],
   "source": [
    "# listing down 50 most freq words\n",
    "Counter(\" \".join(imdb_df[\"review\"]).split()).most_common(50)"
   ]
  },
  {
   "cell_type": "code",
   "execution_count": 47,
   "id": "d6e87c49",
   "metadata": {},
   "outputs": [],
   "source": [
    "# shuffling dataset\n",
    "imdb_df_sub = imdb_df.sample(frac=0.50, random_state=1)"
   ]
  },
  {
   "cell_type": "code",
   "execution_count": 48,
   "id": "fc429cc4",
   "metadata": {},
   "outputs": [],
   "source": [
    "# getting word counts for non-essential words\n",
    "imdb_df_sub['hashtag']= imdb_df_sub['review'].apply(lambda rev: len ([x for x in rev.split() if x.startswith('#')]))\n",
    "imdb_df_sub['mention']= imdb_df_sub['review'].apply(lambda rev: len ([x for x in rev.split() if x.startswith('@')]))\n",
    "imdb_df_sub['url']= imdb_df_sub['review'].apply(lambda rev: len ([x for x in rev.split() if x.lower().startswith('https?:')]))"
   ]
  },
  {
   "cell_type": "code",
   "execution_count": 49,
   "id": "3f36dc5c",
   "metadata": {},
   "outputs": [
    {
     "name": "stderr",
     "output_type": "stream",
     "text": [
      "C:\\Users\\hp\\AppData\\Local\\Temp\\ipykernel_8104\\3927026597.py:3: MarkupResemblesLocatorWarning: The input looks more like a filename than markup. You may want to open this file and pass the filehandle into Beautiful Soup.\n",
      "  soup = BeautifulSoup(text, 'html.parser')\n"
     ]
    }
   ],
   "source": [
    "# defining the function to remove html tags\n",
    "def remove_html_tags(text):\n",
    "    soup = BeautifulSoup(text, 'html.parser')\n",
    "    return soup.get_text()\n",
    "\n",
    "imdb_df_sub['review'] = imdb_df_sub['review'].apply(remove_html_tags)"
   ]
  },
  {
   "cell_type": "code",
   "execution_count": 50,
   "id": "56bcd301",
   "metadata": {},
   "outputs": [],
   "source": [
    "# defining the function to remove urls\n",
    "def remove_urls(text):\n",
    "    pattern = re.compile(r'https?://\\S+')\n",
    "    return pattern.sub(r'', text)\n",
    "\n",
    "imdb_df_sub['review'] = imdb_df_sub['review'].apply(remove_urls)"
   ]
  },
  {
   "cell_type": "code",
   "execution_count": 51,
   "id": "0b966269",
   "metadata": {},
   "outputs": [],
   "source": [
    "# defining the function to remove punctuations\n",
    "exclude = string.punctuation\n",
    "def remove_punctuations(text):\n",
    "    return text.translate(str.maketrans('', '', exclude))\n",
    "\n",
    "imdb_df_sub['review'] = imdb_df_sub['review'].apply(remove_punctuations)"
   ]
  },
  {
   "cell_type": "code",
   "execution_count": 52,
   "id": "b7d60058",
   "metadata": {},
   "outputs": [],
   "source": [
    "imdb_df_sub=imdb_df_sub.drop(['hashtag','mention','url'],axis=1)\n",
    "\n",
    "# defining the function to tokenize the reviews\n",
    "imdb_df_sub['review_tokens'] = imdb_df_sub['review'].apply(nltk.word_tokenize)"
   ]
  },
  {
   "cell_type": "code",
   "execution_count": 53,
   "id": "624de436",
   "metadata": {},
   "outputs": [
    {
     "data": {
      "text/html": [
       "<div>\n",
       "<style scoped>\n",
       "    .dataframe tbody tr th:only-of-type {\n",
       "        vertical-align: middle;\n",
       "    }\n",
       "\n",
       "    .dataframe tbody tr th {\n",
       "        vertical-align: top;\n",
       "    }\n",
       "\n",
       "    .dataframe thead th {\n",
       "        text-align: right;\n",
       "    }\n",
       "</style>\n",
       "<table border=\"1\" class=\"dataframe\">\n",
       "  <thead>\n",
       "    <tr style=\"text-align: right;\">\n",
       "      <th></th>\n",
       "      <th>review</th>\n",
       "      <th>sentiment</th>\n",
       "      <th>word_count</th>\n",
       "      <th>review_tokens</th>\n",
       "    </tr>\n",
       "  </thead>\n",
       "  <tbody>\n",
       "    <tr>\n",
       "      <th>26247</th>\n",
       "      <td>With No Dead Heroes you get stupid lines like ...</td>\n",
       "      <td>1</td>\n",
       "      <td>308</td>\n",
       "      <td>[With, No, Dead, Heroes, you, get, stupid, lin...</td>\n",
       "    </tr>\n",
       "    <tr>\n",
       "      <th>35067</th>\n",
       "      <td>I thought maybe maybe this could be good An ea...</td>\n",
       "      <td>1</td>\n",
       "      <td>190</td>\n",
       "      <td>[I, thought, maybe, maybe, this, could, be, go...</td>\n",
       "    </tr>\n",
       "    <tr>\n",
       "      <th>34590</th>\n",
       "      <td>An elite American military team which of cours...</td>\n",
       "      <td>1</td>\n",
       "      <td>309</td>\n",
       "      <td>[An, elite, American, military, team, which, o...</td>\n",
       "    </tr>\n",
       "    <tr>\n",
       "      <th>16668</th>\n",
       "      <td>Ridiculous horror film about a wealthy man Joh...</td>\n",
       "      <td>1</td>\n",
       "      <td>243</td>\n",
       "      <td>[Ridiculous, horror, film, about, a, wealthy, ...</td>\n",
       "    </tr>\n",
       "    <tr>\n",
       "      <th>12196</th>\n",
       "      <td>Well if you are one of those Katanas filmnuts ...</td>\n",
       "      <td>0</td>\n",
       "      <td>91</td>\n",
       "      <td>[Well, if, you, are, one, of, those, Katanas, ...</td>\n",
       "    </tr>\n",
       "  </tbody>\n",
       "</table>\n",
       "</div>"
      ],
      "text/plain": [
       "                                                  review  sentiment  \\\n",
       "26247  With No Dead Heroes you get stupid lines like ...          1   \n",
       "35067  I thought maybe maybe this could be good An ea...          1   \n",
       "34590  An elite American military team which of cours...          1   \n",
       "16668  Ridiculous horror film about a wealthy man Joh...          1   \n",
       "12196  Well if you are one of those Katanas filmnuts ...          0   \n",
       "\n",
       "       word_count                                      review_tokens  \n",
       "26247         308  [With, No, Dead, Heroes, you, get, stupid, lin...  \n",
       "35067         190  [I, thought, maybe, maybe, this, could, be, go...  \n",
       "34590         309  [An, elite, American, military, team, which, o...  \n",
       "16668         243  [Ridiculous, horror, film, about, a, wealthy, ...  \n",
       "12196          91  [Well, if, you, are, one, of, those, Katanas, ...  "
      ]
     },
     "execution_count": 53,
     "metadata": {},
     "output_type": "execute_result"
    }
   ],
   "source": [
    "imdb_df_sub.head()"
   ]
  },
  {
   "cell_type": "code",
   "execution_count": 54,
   "id": "22d2a24b",
   "metadata": {},
   "outputs": [],
   "source": [
    "stopwords = nltk.corpus.stopwords.words('english')\n",
    "\n",
    "#defining the function to remove stopwords from tokenized text\n",
    "def remove_stopwords(text):\n",
    "    output= [i for i in text if i not in stopwords]\n",
    "    return output\n",
    "\n",
    "imdb_df_sub['review_no_stopwords']= imdb_df_sub['review_tokens'].apply(lambda x:remove_stopwords(x))\n",
    "imdb_df_sub['word_count_no_stopword'] = imdb_df_sub['review_no_stopwords'].apply(lambda x:len(x))"
   ]
  },
  {
   "cell_type": "code",
   "execution_count": 55,
   "id": "aa53b048",
   "metadata": {},
   "outputs": [
    {
     "data": {
      "text/html": [
       "<div>\n",
       "<style scoped>\n",
       "    .dataframe tbody tr th:only-of-type {\n",
       "        vertical-align: middle;\n",
       "    }\n",
       "\n",
       "    .dataframe tbody tr th {\n",
       "        vertical-align: top;\n",
       "    }\n",
       "\n",
       "    .dataframe thead th {\n",
       "        text-align: right;\n",
       "    }\n",
       "</style>\n",
       "<table border=\"1\" class=\"dataframe\">\n",
       "  <thead>\n",
       "    <tr style=\"text-align: right;\">\n",
       "      <th></th>\n",
       "      <th>review</th>\n",
       "      <th>sentiment</th>\n",
       "      <th>word_count</th>\n",
       "      <th>review_tokens</th>\n",
       "      <th>review_no_stopwords</th>\n",
       "      <th>word_count_no_stopword</th>\n",
       "    </tr>\n",
       "  </thead>\n",
       "  <tbody>\n",
       "    <tr>\n",
       "      <th>26247</th>\n",
       "      <td>With No Dead Heroes you get stupid lines like ...</td>\n",
       "      <td>1</td>\n",
       "      <td>308</td>\n",
       "      <td>[With, No, Dead, Heroes, you, get, stupid, lin...</td>\n",
       "      <td>[With, No, Dead, Heroes, get, stupid, lines, l...</td>\n",
       "      <td>179</td>\n",
       "    </tr>\n",
       "    <tr>\n",
       "      <th>35067</th>\n",
       "      <td>I thought maybe maybe this could be good An ea...</td>\n",
       "      <td>1</td>\n",
       "      <td>190</td>\n",
       "      <td>[I, thought, maybe, maybe, this, could, be, go...</td>\n",
       "      <td>[I, thought, maybe, maybe, could, good, An, ea...</td>\n",
       "      <td>111</td>\n",
       "    </tr>\n",
       "    <tr>\n",
       "      <th>34590</th>\n",
       "      <td>An elite American military team which of cours...</td>\n",
       "      <td>1</td>\n",
       "      <td>309</td>\n",
       "      <td>[An, elite, American, military, team, which, o...</td>\n",
       "      <td>[An, elite, American, military, team, course, ...</td>\n",
       "      <td>174</td>\n",
       "    </tr>\n",
       "    <tr>\n",
       "      <th>16668</th>\n",
       "      <td>Ridiculous horror film about a wealthy man Joh...</td>\n",
       "      <td>1</td>\n",
       "      <td>243</td>\n",
       "      <td>[Ridiculous, horror, film, about, a, wealthy, ...</td>\n",
       "      <td>[Ridiculous, horror, film, wealthy, man, John,...</td>\n",
       "      <td>133</td>\n",
       "    </tr>\n",
       "    <tr>\n",
       "      <th>12196</th>\n",
       "      <td>Well if you are one of those Katanas filmnuts ...</td>\n",
       "      <td>0</td>\n",
       "      <td>91</td>\n",
       "      <td>[Well, if, you, are, one, of, those, Katanas, ...</td>\n",
       "      <td>[Well, one, Katanas, filmnuts, like, sure, app...</td>\n",
       "      <td>60</td>\n",
       "    </tr>\n",
       "  </tbody>\n",
       "</table>\n",
       "</div>"
      ],
      "text/plain": [
       "                                                  review  sentiment  \\\n",
       "26247  With No Dead Heroes you get stupid lines like ...          1   \n",
       "35067  I thought maybe maybe this could be good An ea...          1   \n",
       "34590  An elite American military team which of cours...          1   \n",
       "16668  Ridiculous horror film about a wealthy man Joh...          1   \n",
       "12196  Well if you are one of those Katanas filmnuts ...          0   \n",
       "\n",
       "       word_count                                      review_tokens  \\\n",
       "26247         308  [With, No, Dead, Heroes, you, get, stupid, lin...   \n",
       "35067         190  [I, thought, maybe, maybe, this, could, be, go...   \n",
       "34590         309  [An, elite, American, military, team, which, o...   \n",
       "16668         243  [Ridiculous, horror, film, about, a, wealthy, ...   \n",
       "12196          91  [Well, if, you, are, one, of, those, Katanas, ...   \n",
       "\n",
       "                                     review_no_stopwords  \\\n",
       "26247  [With, No, Dead, Heroes, get, stupid, lines, l...   \n",
       "35067  [I, thought, maybe, maybe, could, good, An, ea...   \n",
       "34590  [An, elite, American, military, team, course, ...   \n",
       "16668  [Ridiculous, horror, film, wealthy, man, John,...   \n",
       "12196  [Well, one, Katanas, filmnuts, like, sure, app...   \n",
       "\n",
       "       word_count_no_stopword  \n",
       "26247                     179  \n",
       "35067                     111  \n",
       "34590                     174  \n",
       "16668                     133  \n",
       "12196                      60  "
      ]
     },
     "execution_count": 55,
     "metadata": {},
     "output_type": "execute_result"
    }
   ],
   "source": [
    "imdb_df_sub.head()"
   ]
  },
  {
   "cell_type": "code",
   "execution_count": 56,
   "id": "af598f7d",
   "metadata": {},
   "outputs": [],
   "source": [
    "#defining the object for stemming\n",
    "porter_stemmer = PorterStemmer()\n",
    "#defining a function for stemming\n",
    "def stemming(text):\n",
    "    stem_text = [porter_stemmer.stem(word) for word in text]\n",
    "    return stem_text\n",
    "imdb_df_sub['review_stemmed']=imdb_df_sub['review_no_stopwords'].apply(lambda x: stemming(x))"
   ]
  },
  {
   "cell_type": "code",
   "execution_count": 57,
   "id": "3dbe0f5f",
   "metadata": {},
   "outputs": [],
   "source": [
    "#defining the object for Lemmatization\n",
    "wordnet_lemmatizer = WordNetLemmatizer()\n",
    "#defining the function for lemmatization\n",
    "def lemmatizer(text):\n",
    "    lemm_text = [wordnet_lemmatizer.lemmatize(word) for word in text]\n",
    "    return lemm_text\n",
    "imdb_df_sub['review_lemmed']=imdb_df_sub['review_no_stopwords'].apply(lambda x:lemmatizer(x))"
   ]
  },
  {
   "cell_type": "code",
   "execution_count": 58,
   "id": "adce69da",
   "metadata": {},
   "outputs": [
    {
     "data": {
      "text/html": [
       "<div>\n",
       "<style scoped>\n",
       "    .dataframe tbody tr th:only-of-type {\n",
       "        vertical-align: middle;\n",
       "    }\n",
       "\n",
       "    .dataframe tbody tr th {\n",
       "        vertical-align: top;\n",
       "    }\n",
       "\n",
       "    .dataframe thead th {\n",
       "        text-align: right;\n",
       "    }\n",
       "</style>\n",
       "<table border=\"1\" class=\"dataframe\">\n",
       "  <thead>\n",
       "    <tr style=\"text-align: right;\">\n",
       "      <th></th>\n",
       "      <th>review</th>\n",
       "      <th>sentiment</th>\n",
       "      <th>word_count</th>\n",
       "      <th>review_tokens</th>\n",
       "      <th>review_no_stopwords</th>\n",
       "      <th>word_count_no_stopword</th>\n",
       "      <th>review_stemmed</th>\n",
       "      <th>review_lemmed</th>\n",
       "    </tr>\n",
       "  </thead>\n",
       "  <tbody>\n",
       "    <tr>\n",
       "      <th>26247</th>\n",
       "      <td>With No Dead Heroes you get stupid lines like ...</td>\n",
       "      <td>1</td>\n",
       "      <td>308</td>\n",
       "      <td>[With, No, Dead, Heroes, you, get, stupid, lin...</td>\n",
       "      <td>[With, No, Dead, Heroes, get, stupid, lines, l...</td>\n",
       "      <td>179</td>\n",
       "      <td>[with, no, dead, hero, get, stupid, line, like...</td>\n",
       "      <td>[With, No, Dead, Heroes, get, stupid, line, li...</td>\n",
       "    </tr>\n",
       "    <tr>\n",
       "      <th>35067</th>\n",
       "      <td>I thought maybe maybe this could be good An ea...</td>\n",
       "      <td>1</td>\n",
       "      <td>190</td>\n",
       "      <td>[I, thought, maybe, maybe, this, could, be, go...</td>\n",
       "      <td>[I, thought, maybe, maybe, could, good, An, ea...</td>\n",
       "      <td>111</td>\n",
       "      <td>[i, thought, mayb, mayb, could, good, an, earl...</td>\n",
       "      <td>[I, thought, maybe, maybe, could, good, An, ea...</td>\n",
       "    </tr>\n",
       "    <tr>\n",
       "      <th>34590</th>\n",
       "      <td>An elite American military team which of cours...</td>\n",
       "      <td>1</td>\n",
       "      <td>309</td>\n",
       "      <td>[An, elite, American, military, team, which, o...</td>\n",
       "      <td>[An, elite, American, military, team, course, ...</td>\n",
       "      <td>174</td>\n",
       "      <td>[an, elit, american, militari, team, cours, ha...</td>\n",
       "      <td>[An, elite, American, military, team, course, ...</td>\n",
       "    </tr>\n",
       "    <tr>\n",
       "      <th>16668</th>\n",
       "      <td>Ridiculous horror film about a wealthy man Joh...</td>\n",
       "      <td>1</td>\n",
       "      <td>243</td>\n",
       "      <td>[Ridiculous, horror, film, about, a, wealthy, ...</td>\n",
       "      <td>[Ridiculous, horror, film, wealthy, man, John,...</td>\n",
       "      <td>133</td>\n",
       "      <td>[ridicul, horror, film, wealthi, man, john, ca...</td>\n",
       "      <td>[Ridiculous, horror, film, wealthy, man, John,...</td>\n",
       "    </tr>\n",
       "    <tr>\n",
       "      <th>12196</th>\n",
       "      <td>Well if you are one of those Katanas filmnuts ...</td>\n",
       "      <td>0</td>\n",
       "      <td>91</td>\n",
       "      <td>[Well, if, you, are, one, of, those, Katanas, ...</td>\n",
       "      <td>[Well, one, Katanas, filmnuts, like, sure, app...</td>\n",
       "      <td>60</td>\n",
       "      <td>[well, one, katana, filmnut, like, sure, appre...</td>\n",
       "      <td>[Well, one, Katanas, filmnuts, like, sure, app...</td>\n",
       "    </tr>\n",
       "  </tbody>\n",
       "</table>\n",
       "</div>"
      ],
      "text/plain": [
       "                                                  review  sentiment  \\\n",
       "26247  With No Dead Heroes you get stupid lines like ...          1   \n",
       "35067  I thought maybe maybe this could be good An ea...          1   \n",
       "34590  An elite American military team which of cours...          1   \n",
       "16668  Ridiculous horror film about a wealthy man Joh...          1   \n",
       "12196  Well if you are one of those Katanas filmnuts ...          0   \n",
       "\n",
       "       word_count                                      review_tokens  \\\n",
       "26247         308  [With, No, Dead, Heroes, you, get, stupid, lin...   \n",
       "35067         190  [I, thought, maybe, maybe, this, could, be, go...   \n",
       "34590         309  [An, elite, American, military, team, which, o...   \n",
       "16668         243  [Ridiculous, horror, film, about, a, wealthy, ...   \n",
       "12196          91  [Well, if, you, are, one, of, those, Katanas, ...   \n",
       "\n",
       "                                     review_no_stopwords  \\\n",
       "26247  [With, No, Dead, Heroes, get, stupid, lines, l...   \n",
       "35067  [I, thought, maybe, maybe, could, good, An, ea...   \n",
       "34590  [An, elite, American, military, team, course, ...   \n",
       "16668  [Ridiculous, horror, film, wealthy, man, John,...   \n",
       "12196  [Well, one, Katanas, filmnuts, like, sure, app...   \n",
       "\n",
       "       word_count_no_stopword  \\\n",
       "26247                     179   \n",
       "35067                     111   \n",
       "34590                     174   \n",
       "16668                     133   \n",
       "12196                      60   \n",
       "\n",
       "                                          review_stemmed  \\\n",
       "26247  [with, no, dead, hero, get, stupid, line, like...   \n",
       "35067  [i, thought, mayb, mayb, could, good, an, earl...   \n",
       "34590  [an, elit, american, militari, team, cours, ha...   \n",
       "16668  [ridicul, horror, film, wealthi, man, john, ca...   \n",
       "12196  [well, one, katana, filmnut, like, sure, appre...   \n",
       "\n",
       "                                           review_lemmed  \n",
       "26247  [With, No, Dead, Heroes, get, stupid, line, li...  \n",
       "35067  [I, thought, maybe, maybe, could, good, An, ea...  \n",
       "34590  [An, elite, American, military, team, course, ...  \n",
       "16668  [Ridiculous, horror, film, wealthy, man, John,...  \n",
       "12196  [Well, one, Katanas, filmnuts, like, sure, app...  "
      ]
     },
     "execution_count": 58,
     "metadata": {},
     "output_type": "execute_result"
    }
   ],
   "source": [
    "imdb_df_sub.head()"
   ]
  },
  {
   "cell_type": "code",
   "execution_count": 59,
   "id": "42acb2d0",
   "metadata": {},
   "outputs": [
    {
     "data": {
      "text/html": [
       "<div>\n",
       "<style scoped>\n",
       "    .dataframe tbody tr th:only-of-type {\n",
       "        vertical-align: middle;\n",
       "    }\n",
       "\n",
       "    .dataframe tbody tr th {\n",
       "        vertical-align: top;\n",
       "    }\n",
       "\n",
       "    .dataframe thead th {\n",
       "        text-align: right;\n",
       "    }\n",
       "</style>\n",
       "<table border=\"1\" class=\"dataframe\">\n",
       "  <thead>\n",
       "    <tr style=\"text-align: right;\">\n",
       "      <th></th>\n",
       "      <th>review</th>\n",
       "      <th>sentiment</th>\n",
       "      <th>word_count</th>\n",
       "      <th>review_tokens</th>\n",
       "      <th>review_no_stopwords</th>\n",
       "      <th>word_count_no_stopword</th>\n",
       "      <th>review_stemmed</th>\n",
       "      <th>review_lemmed</th>\n",
       "      <th>proccessed_review_lemmed</th>\n",
       "      <th>proccessed_review_stemmed</th>\n",
       "    </tr>\n",
       "  </thead>\n",
       "  <tbody>\n",
       "    <tr>\n",
       "      <th>26247</th>\n",
       "      <td>With No Dead Heroes you get stupid lines like ...</td>\n",
       "      <td>1</td>\n",
       "      <td>308</td>\n",
       "      <td>[With, No, Dead, Heroes, you, get, stupid, lin...</td>\n",
       "      <td>[With, No, Dead, Heroes, get, stupid, lines, l...</td>\n",
       "      <td>179</td>\n",
       "      <td>[with, no, dead, hero, get, stupid, line, like...</td>\n",
       "      <td>[With, No, Dead, Heroes, get, stupid, line, li...</td>\n",
       "      <td>With No Dead Heroes get stupid line like woefu...</td>\n",
       "      <td>With No Dead Heroes get stupid line like woefu...</td>\n",
       "    </tr>\n",
       "    <tr>\n",
       "      <th>35067</th>\n",
       "      <td>I thought maybe maybe this could be good An ea...</td>\n",
       "      <td>1</td>\n",
       "      <td>190</td>\n",
       "      <td>[I, thought, maybe, maybe, this, could, be, go...</td>\n",
       "      <td>[I, thought, maybe, maybe, could, good, An, ea...</td>\n",
       "      <td>111</td>\n",
       "      <td>[i, thought, mayb, mayb, could, good, an, earl...</td>\n",
       "      <td>[I, thought, maybe, maybe, could, good, An, ea...</td>\n",
       "      <td>I thought maybe maybe could good An early appe...</td>\n",
       "      <td>I thought maybe maybe could good An early appe...</td>\n",
       "    </tr>\n",
       "    <tr>\n",
       "      <th>34590</th>\n",
       "      <td>An elite American military team which of cours...</td>\n",
       "      <td>1</td>\n",
       "      <td>309</td>\n",
       "      <td>[An, elite, American, military, team, which, o...</td>\n",
       "      <td>[An, elite, American, military, team, course, ...</td>\n",
       "      <td>174</td>\n",
       "      <td>[an, elit, american, militari, team, cours, ha...</td>\n",
       "      <td>[An, elite, American, military, team, course, ...</td>\n",
       "      <td>An elite American military team course happens...</td>\n",
       "      <td>An elite American military team course happens...</td>\n",
       "    </tr>\n",
       "    <tr>\n",
       "      <th>16668</th>\n",
       "      <td>Ridiculous horror film about a wealthy man Joh...</td>\n",
       "      <td>1</td>\n",
       "      <td>243</td>\n",
       "      <td>[Ridiculous, horror, film, about, a, wealthy, ...</td>\n",
       "      <td>[Ridiculous, horror, film, wealthy, man, John,...</td>\n",
       "      <td>133</td>\n",
       "      <td>[ridicul, horror, film, wealthi, man, john, ca...</td>\n",
       "      <td>[Ridiculous, horror, film, wealthy, man, John,...</td>\n",
       "      <td>Ridiculous horror film wealthy man John Carrad...</td>\n",
       "      <td>Ridiculous horror film wealthy man John Carrad...</td>\n",
       "    </tr>\n",
       "    <tr>\n",
       "      <th>12196</th>\n",
       "      <td>Well if you are one of those Katanas filmnuts ...</td>\n",
       "      <td>0</td>\n",
       "      <td>91</td>\n",
       "      <td>[Well, if, you, are, one, of, those, Katanas, ...</td>\n",
       "      <td>[Well, one, Katanas, filmnuts, like, sure, app...</td>\n",
       "      <td>60</td>\n",
       "      <td>[well, one, katana, filmnut, like, sure, appre...</td>\n",
       "      <td>[Well, one, Katanas, filmnuts, like, sure, app...</td>\n",
       "      <td>Well one Katanas filmnuts like sure appreciate...</td>\n",
       "      <td>Well one Katanas filmnuts like sure appreciate...</td>\n",
       "    </tr>\n",
       "  </tbody>\n",
       "</table>\n",
       "</div>"
      ],
      "text/plain": [
       "                                                  review  sentiment  \\\n",
       "26247  With No Dead Heroes you get stupid lines like ...          1   \n",
       "35067  I thought maybe maybe this could be good An ea...          1   \n",
       "34590  An elite American military team which of cours...          1   \n",
       "16668  Ridiculous horror film about a wealthy man Joh...          1   \n",
       "12196  Well if you are one of those Katanas filmnuts ...          0   \n",
       "\n",
       "       word_count                                      review_tokens  \\\n",
       "26247         308  [With, No, Dead, Heroes, you, get, stupid, lin...   \n",
       "35067         190  [I, thought, maybe, maybe, this, could, be, go...   \n",
       "34590         309  [An, elite, American, military, team, which, o...   \n",
       "16668         243  [Ridiculous, horror, film, about, a, wealthy, ...   \n",
       "12196          91  [Well, if, you, are, one, of, those, Katanas, ...   \n",
       "\n",
       "                                     review_no_stopwords  \\\n",
       "26247  [With, No, Dead, Heroes, get, stupid, lines, l...   \n",
       "35067  [I, thought, maybe, maybe, could, good, An, ea...   \n",
       "34590  [An, elite, American, military, team, course, ...   \n",
       "16668  [Ridiculous, horror, film, wealthy, man, John,...   \n",
       "12196  [Well, one, Katanas, filmnuts, like, sure, app...   \n",
       "\n",
       "       word_count_no_stopword  \\\n",
       "26247                     179   \n",
       "35067                     111   \n",
       "34590                     174   \n",
       "16668                     133   \n",
       "12196                      60   \n",
       "\n",
       "                                          review_stemmed  \\\n",
       "26247  [with, no, dead, hero, get, stupid, line, like...   \n",
       "35067  [i, thought, mayb, mayb, could, good, an, earl...   \n",
       "34590  [an, elit, american, militari, team, cours, ha...   \n",
       "16668  [ridicul, horror, film, wealthi, man, john, ca...   \n",
       "12196  [well, one, katana, filmnut, like, sure, appre...   \n",
       "\n",
       "                                           review_lemmed  \\\n",
       "26247  [With, No, Dead, Heroes, get, stupid, line, li...   \n",
       "35067  [I, thought, maybe, maybe, could, good, An, ea...   \n",
       "34590  [An, elite, American, military, team, course, ...   \n",
       "16668  [Ridiculous, horror, film, wealthy, man, John,...   \n",
       "12196  [Well, one, Katanas, filmnuts, like, sure, app...   \n",
       "\n",
       "                                proccessed_review_lemmed  \\\n",
       "26247  With No Dead Heroes get stupid line like woefu...   \n",
       "35067  I thought maybe maybe could good An early appe...   \n",
       "34590  An elite American military team course happens...   \n",
       "16668  Ridiculous horror film wealthy man John Carrad...   \n",
       "12196  Well one Katanas filmnuts like sure appreciate...   \n",
       "\n",
       "                               proccessed_review_stemmed  \n",
       "26247  With No Dead Heroes get stupid line like woefu...  \n",
       "35067  I thought maybe maybe could good An early appe...  \n",
       "34590  An elite American military team course happens...  \n",
       "16668  Ridiculous horror film wealthy man John Carrad...  \n",
       "12196  Well one Katanas filmnuts like sure appreciate...  "
      ]
     },
     "execution_count": 59,
     "metadata": {},
     "output_type": "execute_result"
    }
   ],
   "source": [
    "# converting stemmed and lemmed tokens to complete sentences\n",
    "imdb_df_sub['proccessed_review_lemmed']=imdb_df_sub['review_lemmed'].apply(lambda x: ' '.join(x))\n",
    "imdb_df_sub['proccessed_review_stemmed']=imdb_df_sub['review_lemmed'].apply(lambda x: ' '.join(x))\n",
    "imdb_df_sub.head()"
   ]
  },
  {
   "cell_type": "code",
   "execution_count": 60,
   "id": "9fd6c9b2",
   "metadata": {},
   "outputs": [
    {
     "data": {
      "text/plain": [
       "[('I', 68250),\n",
       " ('movie', 49226),\n",
       " ('film', 44113),\n",
       " ('The', 37651),\n",
       " ('one', 24359),\n",
       " ('like', 19025),\n",
       " ('time', 14337),\n",
       " ('good', 13649),\n",
       " ('character', 13336),\n",
       " ('This', 12662),\n",
       " ('would', 11865),\n",
       " ('get', 11774),\n",
       " ('story', 11731),\n",
       " ('make', 11597),\n",
       " ('see', 11484),\n",
       " ('really', 11085),\n",
       " ('It', 10949),\n",
       " ('even', 10620),\n",
       " ('scene', 10164),\n",
       " ('much', 9170),\n",
       " ('people', 8719),\n",
       " ('bad', 8493),\n",
       " ('great', 8175),\n",
       " ('way', 8019),\n",
       " ('show', 7884),\n",
       " ('thing', 7852),\n",
       " ('well', 7808),\n",
       " ('made', 7739),\n",
       " ('first', 7639),\n",
       " ('also', 7494),\n",
       " ('could', 7398),\n",
       " ('think', 7374),\n",
       " ('dont', 7282),\n",
       " ('know', 6909),\n",
       " ('life', 6801),\n",
       " ('go', 6698),\n",
       " ('seen', 6550),\n",
       " ('watch', 6411),\n",
       " ('But', 6370),\n",
       " ('many', 6361),\n",
       " ('say', 6303),\n",
       " ('actor', 6279),\n",
       " ('plot', 6195),\n",
       " ('never', 6085),\n",
       " ('love', 6053),\n",
       " ('Its', 6046),\n",
       " ('look', 6043),\n",
       " ('two', 6041),\n",
       " ('And', 6020),\n",
       " ('acting', 5998)]"
      ]
     },
     "execution_count": 60,
     "metadata": {},
     "output_type": "execute_result"
    }
   ],
   "source": [
    "Counter(\" \".join(imdb_df_sub[\"proccessed_review_lemmed\"]).split()).most_common(50)"
   ]
  },
  {
   "cell_type": "code",
   "execution_count": 61,
   "id": "81e6eaba",
   "metadata": {},
   "outputs": [],
   "source": [
    "def model(df):\n",
    "    \"\"\"\n",
    "    This function performs sentiment analysis on a given dataframe using the Multinomial Naive Bayes classifier.\n",
    "\n",
    "    Parameters:\n",
    "    df (pandas.DataFrame): A dataframe containing the reviews and their corresponding sentiments. \n",
    "                           The dataframe should have 'proccessed_review_lemmed' and 'sentiment' columns.\n",
    "\n",
    "    Returns:\n",
    "    dict: A dictionary containing the confusion matrix and the classification report of the model's performance.\n",
    "          The dictionary has the following structure:\n",
    "          {\n",
    "              \"confusion_matrix\": (numpy.ndarray) The confusion matrix of the model's predictions,\n",
    "              \"classification_report\": (str) The classification report providing a summary of the precision, recall, F1 score for each class.\n",
    "          }\n",
    "    \"\"\"\n",
    "    x_train, x_test, y_train, y_test = train_test_split(df['proccessed_review_lemmed'], df['sentiment'], test_size=0.3, random_state=1)\n",
    "    tfidf_vectorizer = TfidfVectorizer(lowercase=True)    \n",
    "    x_train_transformed = tfidf_vectorizer.fit_transform(x_train)\n",
    "    x_test_transformed = tfidf_vectorizer.transform(x_test)\n",
    "    model_mnb = MultinomialNB(alpha = 1)\n",
    "    model_mnb.fit(x_train_transformed, y_train)\n",
    "    predictions = model_mnb.predict(x_test_transformed)\n",
    "    classification_report_op = classification_report(y_test, predictions,zero_division=0)\n",
    "    confusion_matrix_op = confusion_matrix(y_test, predictions)\n",
    "\n",
    "    return {\"confusion_matrix\": confusion_matrix_op, \"classification_report\": classification_report_op}"
   ]
  },
  {
   "cell_type": "markdown",
   "id": "d34e952d",
   "metadata": {},
   "source": [
    "### Confusion Matrix: \n",
    "This is a table used to describe the performance of a classification model. It outlines four outcomes:\n",
    "\n",
    "### Accuracy:\n",
    "This is the ratio of correctly predicted reviews (both positive and negative) to the total number of reviews. It gives us an overall idea of how often the classifier is correct, but it might be misleading if classes are imbalanced.\n",
    "\n",
    "### Precision:\n",
    "Precision is the ratio of true positives (TP) to the sum of true and false positives (TP + FP). It represents the model's accuracy in classifying a review as positive.\n",
    "\n",
    "### Recall:\n",
    "Recall is the ratio of true positives (TP) to the sum of true positives and false negatives (TP + FN). It indicates how many of the actual positive reviews were captured by the model. It answers the question, \"Of all actual positive reviews, how many did we correctly predict?\"\n",
    "\n",
    "### F1-Score: \n",
    "This is the harmonic mean of precision and recall, providing a balance between the two metrics. It ranges from 0 to 1, where 1 indicates perfect precision and recall, and is particularly useful in cases of uneven class distribution."
   ]
  },
  {
   "cell_type": "code",
   "execution_count": 62,
   "id": "e9b63f0a",
   "metadata": {},
   "outputs": [],
   "source": [
    "def create_imbalanced_dataset(data, positive_ratio):\n",
    "    \"\"\"\n",
    "    Create an imbalanced dataset by undersampling the majority class.\n",
    "\n",
    "    Parameters\n",
    "    ----------\n",
    "    data : pandas.DataFrame\n",
    "        The original dataset.\n",
    "    positive_ratio : float\n",
    "        The ratio of positive to negative samples in the resulting dataset.\n",
    "\n",
    "    Returns\n",
    "    -------\n",
    "    pandas.DataFrame\n",
    "        The imbalanced dataset.\n",
    "    \"\"\"\n",
    "\n",
    "    positive_reviews = data[data['sentiment'] == 0]\n",
    "    negative_reviews = data[data['sentiment'] == 1]\n",
    "\n",
    "    # Calculate the number of positive reviews to sample\n",
    "    if (positive_ratio < 1):\n",
    "        num_positive = int(len(negative_reviews) * positive_ratio)\n",
    "        # Sample from positive reviews without replacement\n",
    "        positive_sample = positive_reviews.sample(n=num_positive, replace=False)\n",
    "\n",
    "        imbalanced_data = pd.concat([negative_reviews, positive_sample])\n",
    "    else:\n",
    "        num_negative = int(len(positive_reviews) * (1/positive_ratio))\n",
    "\n",
    "        negative_sample = negative_reviews.sample(n=num_negative, replace=False)\n",
    "\n",
    "        imbalanced_data = pd.concat([positive_reviews, negative_sample])\n",
    "        \n",
    "        imbalanced_data = imbalanced_data.sample(frac=1, random_state=42).reset_index(drop=True)\n",
    "\n",
    "    return imbalanced_data"
   ]
  },
  {
   "cell_type": "markdown",
   "id": "34594f8a",
   "metadata": {},
   "source": [
    "We use sampling without replacement to maintain data integrity and avoid duplicate records, which could bias our model. The sample method from pandas is utilized for this purpose. The positive and negative samples are then concatenated to form the imbalanced dataset. Finally, the dataset is shuffled to ensure randomness, helping in unbiased model training later on."
   ]
  },
  {
   "cell_type": "code",
   "execution_count": 63,
   "id": "11c89e8f",
   "metadata": {},
   "outputs": [
    {
     "data": {
      "text/plain": [
       "<Axes: xlabel='sentiment', ylabel='count'>"
      ]
     },
     "execution_count": 63,
     "metadata": {},
     "output_type": "execute_result"
    },
    {
     "data": {
      "image/png": "[encoded data removed]",
      "text/plain": [
       "<Figure size 640x480 with 1 Axes>"
      ]
     },
     "metadata": {},
     "output_type": "display_data"
    }
   ],
   "source": [
    "imdb_df_1x = create_imbalanced_dataset(imdb_df_sub, 1)\n",
    "sns.countplot(data=imdb_df_1x, x ='sentiment' , palette = \"Set1\" , hue ='sentiment')"
   ]
  },
  {
   "cell_type": "code",
   "execution_count": 64,
   "id": "bad6cacd",
   "metadata": {},
   "outputs": [
    {
     "name": "stdout",
     "output_type": "stream",
     "text": [
      "              precision    recall  f1-score   support\n",
      "\n",
      "           0       0.88      0.83      0.85      3738\n",
      "           1       0.84      0.88      0.86      3707\n",
      "\n",
      "    accuracy                           0.86      7445\n",
      "   macro avg       0.86      0.86      0.86      7445\n",
      "weighted avg       0.86      0.86      0.86      7445\n",
      "\n"
     ]
    },
    {
     "data": {
      "text/plain": [
       "<sklearn.metrics._plot.confusion_matrix.ConfusionMatrixDisplay at 0x1e40e92fed0>"
      ]
     },
     "execution_count": 64,
     "metadata": {},
     "output_type": "execute_result"
    },
    {
     "data": {
      "image/png": "[encoded data removed]",
      "text/plain": [
       "<Figure size 640x480 with 2 Axes>"
      ]
     },
     "metadata": {},
     "output_type": "display_data"
    }
   ],
   "source": [
    "result = model(imdb_df_1x)\n",
    "cm = result['confusion_matrix']\n",
    "cr = result['classification_report']\n",
    "disp = ConfusionMatrixDisplay(confusion_matrix=cm, display_labels=['Positive','Negative'])\n",
    "print(cr)\n",
    "disp.plot()"
   ]
  },
  {
   "cell_type": "code",
   "execution_count": 65,
   "id": "4176cfcc",
   "metadata": {
    "scrolled": false
   },
   "outputs": [
    {
     "data": {
      "text/plain": [
       "<Axes: xlabel='sentiment', ylabel='count'>"
      ]
     },
     "execution_count": 65,
     "metadata": {},
     "output_type": "execute_result"
    },
    {
     "data": {
      "image/png": "[encoded data removed]",
      "text/plain": [
       "<Figure size 640x480 with 1 Axes>"
      ]
     },
     "metadata": {},
     "output_type": "display_data"
    }
   ],
   "source": [
    "imdb_df_3x = create_imbalanced_dataset(imdb_df_sub, 3)\n",
    "sns.countplot(data=imdb_df_3x, x ='sentiment' , palette = \"Set1\" , hue ='sentiment')"
   ]
  },
  {
   "cell_type": "code",
   "execution_count": 66,
   "id": "f9aa82b3",
   "metadata": {},
   "outputs": [
    {
     "name": "stdout",
     "output_type": "stream",
     "text": [
      "              precision    recall  f1-score   support\n",
      "\n",
      "           0       0.75      1.00      0.86      3718\n",
      "           1       0.00      0.00      0.00      1246\n",
      "\n",
      "    accuracy                           0.75      4964\n",
      "   macro avg       0.37      0.50      0.43      4964\n",
      "weighted avg       0.56      0.75      0.64      4964\n",
      "\n"
     ]
    },
    {
     "data": {
      "text/plain": [
       "<sklearn.metrics._plot.confusion_matrix.ConfusionMatrixDisplay at 0x1e3d835c390>"
      ]
     },
     "execution_count": 66,
     "metadata": {},
     "output_type": "execute_result"
    },
    {
     "data": {
      "image/png": "[encoded data removed]",
      "text/plain": [
       "<Figure size 640x480 with 2 Axes>"
      ]
     },
     "metadata": {},
     "output_type": "display_data"
    }
   ],
   "source": [
    "result = model(imdb_df_3x)\n",
    "cm = result['confusion_matrix']\n",
    "cr = result['classification_report']\n",
    "display_cm = ConfusionMatrixDisplay(confusion_matrix=cm, display_labels=['Positive','Negative'])\n",
    "print(cr)\n",
    "display_cm.plot()"
   ]
  },
  {
   "cell_type": "code",
   "execution_count": 67,
   "id": "b04c751f",
   "metadata": {},
   "outputs": [
    {
     "data": {
      "text/plain": [
       "<Axes: xlabel='sentiment', ylabel='count'>"
      ]
     },
     "execution_count": 67,
     "metadata": {},
     "output_type": "execute_result"
    },
    {
     "data": {
      "image/png": "[encoded data removed]",
      "text/plain": [
       "<Figure size 640x480 with 1 Axes>"
      ]
     },
     "metadata": {},
     "output_type": "display_data"
    }
   ],
   "source": [
    "imdb_df_01x = create_imbalanced_dataset(imdb_df_sub, 0.1)\n",
    "sns.countplot(data=imdb_df_01x, x ='sentiment' , palette = \"Set1\" , hue ='sentiment')\n"
   ]
  },
  {
   "cell_type": "code",
   "execution_count": 68,
   "id": "69a21cb6",
   "metadata": {},
   "outputs": [
    {
     "name": "stdout",
     "output_type": "stream",
     "text": [
      "              precision    recall  f1-score   support\n",
      "\n",
      "           0       0.00      0.00      0.00       371\n",
      "           1       0.91      1.00      0.95      3785\n",
      "\n",
      "    accuracy                           0.91      4156\n",
      "   macro avg       0.46      0.50      0.48      4156\n",
      "weighted avg       0.83      0.91      0.87      4156\n",
      "\n"
     ]
    },
    {
     "data": {
      "text/plain": [
       "<sklearn.metrics._plot.confusion_matrix.ConfusionMatrixDisplay at 0x1e40b6d8c10>"
      ]
     },
     "execution_count": 68,
     "metadata": {},
     "output_type": "execute_result"
    },
    {
     "data": {
      "image/png": "[encoded data removed]",
      "text/plain": [
       "<Figure size 640x480 with 2 Axes>"
      ]
     },
     "metadata": {},
     "output_type": "display_data"
    }
   ],
   "source": [
    "result = model(imdb_df_01x)\n",
    "cm = result['confusion_matrix']\n",
    "cr = result['classification_report']\n",
    "display_cm = ConfusionMatrixDisplay(confusion_matrix=cm, display_labels=['Positive','Negative'])\n",
    "print(cr)\n",
    "display_cm.plot()"
   ]
  },
  {
   "cell_type": "code",
   "execution_count": 69,
   "id": "0381ae15",
   "metadata": {},
   "outputs": [
    {
     "data": {
      "text/plain": [
       "<Axes: xlabel='sentiment', ylabel='count'>"
      ]
     },
     "execution_count": 69,
     "metadata": {},
     "output_type": "execute_result"
    },
    {
     "data": {
      "image/png": "[encoded data removed]",
      "text/plain": [
       "<Figure size 640x480 with 1 Axes>"
      ]
     },
     "metadata": {},
     "output_type": "display_data"
    }
   ],
   "source": [
    "imdb_df_001x = create_imbalanced_dataset(imdb_df_sub, 0.01)\n",
    "sns.countplot(data=imdb_df_001x, x ='sentiment' , palette = \"Set1\" , hue ='sentiment')\n",
    "\n"
   ]
  },
  {
   "cell_type": "code",
   "execution_count": 70,
   "id": "4c0b310a",
   "metadata": {},
   "outputs": [
    {
     "name": "stdout",
     "output_type": "stream",
     "text": [
      "              precision    recall  f1-score   support\n",
      "\n",
      "           0       0.00      0.00      0.00        39\n",
      "           1       0.99      1.00      0.99      3777\n",
      "\n",
      "    accuracy                           0.99      3816\n",
      "   macro avg       0.49      0.50      0.50      3816\n",
      "weighted avg       0.98      0.99      0.98      3816\n",
      "\n"
     ]
    },
    {
     "data": {
      "text/plain": [
       "<sklearn.metrics._plot.confusion_matrix.ConfusionMatrixDisplay at 0x1e40e365510>"
      ]
     },
     "execution_count": 70,
     "metadata": {},
     "output_type": "execute_result"
    },
    {
     "data": {
      "image/png": "[encoded data removed]",
      "text/plain": [
       "<Figure size 640x480 with 2 Axes>"
      ]
     },
     "metadata": {},
     "output_type": "display_data"
    }
   ],
   "source": [
    "result = model(imdb_df_001x)\n",
    "cm = result['confusion_matrix']\n",
    "cr = result['classification_report']\n",
    "display_cm = ConfusionMatrixDisplay(confusion_matrix=cm, display_labels=['Positive','Negative'])\n",
    "print(cr)\n",
    "display_cm.plot()"
   ]
  },
  {
   "cell_type": "markdown",
   "id": "1f5b89c1",
   "metadata": {},
   "source": [
    "When we ran the model on datasets with positive ratios of 10% and 1%, we are likely to observe a significant shift in performance metrics, particularly in precision, recall, and F1-score for the positive class.\n",
    "\n",
    "Even with the class imbalance, we got overall accuracy of the model as 91% and 99% which is significantly very high. This is due to the accuracy paradox, where the model might lean towards predicting the majority class (negative reviews in this case) and still achieve a high number of correct predictions. However, this doesn't mean the model is performing well.\n",
    "\n",
    "The model's precision and recall for the positive class also showed significant drop. This is because, with fewer positive samples, the model has very less data to learn what constitutes a positive review, leading to more false negatives.\n",
    "\n",
    "The F1-score for the positive class also dropped significantly due to lower precision and recall. Since it's the harmonic mean of precision and recall, it's sensitive to a drop in either metric and provides a more realistic picture of the model's performance on imbalanced data.\n",
    "\n",
    "The model behaves this way primarily because most machine learning models, assume that the data is equally distributed and often fail to perform well with imbalanced datasets. They tend to favor the majority class during training, leading to a bias towards it. As a result, the model becomes less sensitive to the minority class, causing the shifts in performance metrics observed."
   ]
  },
  {
   "cell_type": "code",
   "execution_count": 71,
   "id": "eaf69f1c",
   "metadata": {},
   "outputs": [
    {
     "name": "stdout",
     "output_type": "stream",
     "text": [
      "              precision    recall  f1-score   support\n",
      "\n",
      "           0       0.47      0.63      0.54       252\n",
      "           1       0.96      0.93      0.94      2519\n",
      "\n",
      "    accuracy                           0.90      2771\n",
      "   macro avg       0.71      0.78      0.74      2771\n",
      "weighted avg       0.92      0.90      0.91      2771\n",
      "\n"
     ]
    },
    {
     "data": {
      "text/plain": [
       "<sklearn.metrics._plot.confusion_matrix.ConfusionMatrixDisplay at 0x1e3c8e39a90>"
      ]
     },
     "execution_count": 71,
     "metadata": {},
     "output_type": "execute_result"
    },
    {
     "data": {
      "image/png": "[encoded data removed]",
      "text/plain": [
       "<Figure size 640x480 with 2 Axes>"
      ]
     },
     "metadata": {},
     "output_type": "display_data"
    }
   ],
   "source": [
    "import numpy as np\n",
    "#Assume 'imbalanced_data' is your dataset with a 1% positive ratio\n",
    "review = imdb_df_01x['review']\n",
    "sentiment = imdb_df_01x['sentiment']\n",
    "\n",
    "vectorizer = TfidfVectorizer()\n",
    "\n",
    "review_vect = vectorizer.fit_transform(review)\n",
    "\n",
    "x_train, x_test, y_train, y_test = train_test_split(review_vect, sentiment, test_size=0.2, random_state=42)\n",
    "\n",
    "# Use SMOTE to balance the training data\n",
    "sm = SMOTE(random_state=42, sampling_strategy = 1.0)\n",
    "x_train_res, y_train_res = sm.fit_resample(x_train, y_train)\n",
    "\n",
    "model = MultinomialNB() \n",
    "model.fit(x_train_res, y_train_res)\n",
    "\n",
    "y_pred = model.predict(x_test)\n",
    "print(classification_report(y_test, y_pred))\n",
    "display_cm = ConfusionMatrixDisplay(confusion_matrix(y_test, y_pred), display_labels=['Positive','Negative'])\n",
    "display_cm.plot()\n"
   ]
  }
 ],
 "metadata": {
  "kernelspec": {
   "display_name": "Python 3",
   "language": "python",
   "name": "python3"
  },
  "language_info": {
   "codemirror_mode": {
    "name": "ipython",
    "version": 3
   },
   "file_extension": ".py",
   "mimetype": "text/x-python",
   "name": "python",
   "nbconvert_exporter": "python",
   "pygments_lexer": "ipython3",
   "version": "3.11.5"
  }
 },
 "nbformat": 4,
 "nbformat_minor": 5
}
